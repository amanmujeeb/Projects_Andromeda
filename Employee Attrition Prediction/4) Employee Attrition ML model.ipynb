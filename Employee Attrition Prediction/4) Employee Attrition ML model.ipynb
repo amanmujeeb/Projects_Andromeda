{
 "cells": [
  {
   "cell_type": "markdown",
   "id": "14886be4",
   "metadata": {},
   "source": [
    "## Building Machine Learning Models"
   ]
  },
  {
   "cell_type": "code",
   "execution_count": 1,
   "id": "5b0d0e74",
   "metadata": {},
   "outputs": [],
   "source": [
    "import numpy as np\n",
    "import pandas as pd\n",
    "import matplotlib.pyplot as plt\n",
    "import seaborn as sns\n",
    "import plotly.express as pt\n",
    "%matplotlib inline\n",
    "import warnings\n",
    "warnings.filterwarnings('ignore')\n",
    "pd.set_option('display.max_columns',None)"
   ]
  },
  {
   "cell_type": "markdown",
   "id": "ce1eef3f",
   "metadata": {},
   "source": [
    "### Importing ml algorithms"
   ]
  },
  {
   "cell_type": "code",
   "execution_count": 2,
   "id": "640e938b",
   "metadata": {},
   "outputs": [],
   "source": [
    "from sklearn.model_selection import train_test_split\n",
    "from sklearn.linear_model import LogisticRegression as lg\n",
    "from sklearn.tree import DecisionTreeClassifier \n",
    "from sklearn.ensemble import RandomForestClassifier \n",
    "from sklearn.neighbors import KNeighborsClassifier as knc\n",
    "import xgboost as xgb\n",
    "from sklearn.svm import SVC\n",
    "from sklearn.naive_bayes import GaussianNB \n",
    "from sklearn.ensemble import GradientBoostingClassifier as gbc\n",
    "from catboost import CatBoostClassifier\n",
    "from lightgbm import LGBMClassifier"
   ]
  },
  {
   "cell_type": "code",
   "execution_count": 3,
   "id": "deb675ea",
   "metadata": {},
   "outputs": [],
   "source": [
    "from sklearn.metrics import confusion_matrix as cm,classification_report as cr,accuracy_score as acs"
   ]
  },
  {
   "cell_type": "code",
   "execution_count": 4,
   "id": "eae6a96c",
   "metadata": {},
   "outputs": [],
   "source": [
    "df=pd.read_csv(\"emp_normalized.csv\")"
   ]
  },
  {
   "cell_type": "code",
   "execution_count": 5,
   "id": "adb4f510",
   "metadata": {},
   "outputs": [
    {
     "data": {
      "text/html": [
       "<div>\n",
       "<style scoped>\n",
       "    .dataframe tbody tr th:only-of-type {\n",
       "        vertical-align: middle;\n",
       "    }\n",
       "\n",
       "    .dataframe tbody tr th {\n",
       "        vertical-align: top;\n",
       "    }\n",
       "\n",
       "    .dataframe thead th {\n",
       "        text-align: right;\n",
       "    }\n",
       "</style>\n",
       "<table border=\"1\" class=\"dataframe\">\n",
       "  <thead>\n",
       "    <tr style=\"text-align: right;\">\n",
       "      <th></th>\n",
       "      <th>Age</th>\n",
       "      <th>Attrition</th>\n",
       "      <th>DailyRate</th>\n",
       "      <th>DistanceFromHome</th>\n",
       "      <th>Education</th>\n",
       "      <th>EnvironmentSatisfaction</th>\n",
       "      <th>HourlyRate</th>\n",
       "      <th>JobInvolvement</th>\n",
       "      <th>JobLevel</th>\n",
       "      <th>JobSatisfaction</th>\n",
       "      <th>MonthlyIncome</th>\n",
       "      <th>NumCompaniesWorked</th>\n",
       "      <th>PercentSalaryHike</th>\n",
       "      <th>PerformanceRating</th>\n",
       "      <th>RelationshipSatisfaction</th>\n",
       "      <th>StockOptionLevel</th>\n",
       "      <th>TotalWorkingYears</th>\n",
       "      <th>TrainingTimesLastYear</th>\n",
       "      <th>WorkLifeBalance</th>\n",
       "      <th>YearsAtCompany</th>\n",
       "      <th>YearsSinceLastPromotion</th>\n",
       "      <th>BusinessTravel_Travel_Frequently</th>\n",
       "      <th>BusinessTravel_Travel_Rarely</th>\n",
       "      <th>Department_Human Resources</th>\n",
       "      <th>Department_Research &amp; Development</th>\n",
       "      <th>Department_Sales</th>\n",
       "      <th>Department_Software</th>\n",
       "      <th>Department_Support</th>\n",
       "      <th>EducationField_Life Sciences</th>\n",
       "      <th>EducationField_Marketing</th>\n",
       "      <th>EducationField_Medical</th>\n",
       "      <th>EducationField_Other</th>\n",
       "      <th>EducationField_Technical Degree</th>\n",
       "      <th>Gender_Male</th>\n",
       "      <th>JobRole_Healthcare Representative</th>\n",
       "      <th>JobRole_Human Resources</th>\n",
       "      <th>JobRole_Laboratory Technician</th>\n",
       "      <th>JobRole_Manager</th>\n",
       "      <th>JobRole_Manufacturing Director</th>\n",
       "      <th>JobRole_Research Director</th>\n",
       "      <th>JobRole_Research Scientist</th>\n",
       "      <th>JobRole_Sales Executive</th>\n",
       "      <th>JobRole_Sales Representative</th>\n",
       "      <th>MaritalStatus_Married</th>\n",
       "      <th>MaritalStatus_Single</th>\n",
       "      <th>OverTime_Yes</th>\n",
       "    </tr>\n",
       "  </thead>\n",
       "  <tbody>\n",
       "    <tr>\n",
       "      <th>0</th>\n",
       "      <td>0.952381</td>\n",
       "      <td>0.0</td>\n",
       "      <td>0.071429</td>\n",
       "      <td>0.244898</td>\n",
       "      <td>1.00</td>\n",
       "      <td>0.000000</td>\n",
       "      <td>0.017647</td>\n",
       "      <td>1.000000</td>\n",
       "      <td>1.00</td>\n",
       "      <td>1.000000</td>\n",
       "      <td>0.325767</td>\n",
       "      <td>0.750</td>\n",
       "      <td>0.693878</td>\n",
       "      <td>0.333333</td>\n",
       "      <td>0.333333</td>\n",
       "      <td>1.000000</td>\n",
       "      <td>1.000000</td>\n",
       "      <td>0.4</td>\n",
       "      <td>1.000000</td>\n",
       "      <td>0.769231</td>\n",
       "      <td>0.000000</td>\n",
       "      <td>1.0</td>\n",
       "      <td>0.0</td>\n",
       "      <td>0.0</td>\n",
       "      <td>0.0</td>\n",
       "      <td>0.0</td>\n",
       "      <td>0.0</td>\n",
       "      <td>0.0</td>\n",
       "      <td>1.0</td>\n",
       "      <td>0.0</td>\n",
       "      <td>0.0</td>\n",
       "      <td>0.0</td>\n",
       "      <td>0.0</td>\n",
       "      <td>1.0</td>\n",
       "      <td>0.0</td>\n",
       "      <td>0.0</td>\n",
       "      <td>0.0</td>\n",
       "      <td>0.0</td>\n",
       "      <td>0.0</td>\n",
       "      <td>0.0</td>\n",
       "      <td>0.0</td>\n",
       "      <td>1.0</td>\n",
       "      <td>0.0</td>\n",
       "      <td>1.0</td>\n",
       "      <td>0.0</td>\n",
       "      <td>0.0</td>\n",
       "    </tr>\n",
       "    <tr>\n",
       "      <th>1</th>\n",
       "      <td>0.404762</td>\n",
       "      <td>0.0</td>\n",
       "      <td>0.436429</td>\n",
       "      <td>0.551020</td>\n",
       "      <td>0.75</td>\n",
       "      <td>0.666667</td>\n",
       "      <td>0.352941</td>\n",
       "      <td>0.000000</td>\n",
       "      <td>1.00</td>\n",
       "      <td>0.000000</td>\n",
       "      <td>0.800016</td>\n",
       "      <td>0.750</td>\n",
       "      <td>0.959184</td>\n",
       "      <td>1.000000</td>\n",
       "      <td>1.000000</td>\n",
       "      <td>0.666667</td>\n",
       "      <td>0.000000</td>\n",
       "      <td>0.0</td>\n",
       "      <td>1.000000</td>\n",
       "      <td>0.000000</td>\n",
       "      <td>0.000000</td>\n",
       "      <td>0.0</td>\n",
       "      <td>1.0</td>\n",
       "      <td>0.0</td>\n",
       "      <td>1.0</td>\n",
       "      <td>0.0</td>\n",
       "      <td>0.0</td>\n",
       "      <td>0.0</td>\n",
       "      <td>0.0</td>\n",
       "      <td>0.0</td>\n",
       "      <td>0.0</td>\n",
       "      <td>0.0</td>\n",
       "      <td>1.0</td>\n",
       "      <td>1.0</td>\n",
       "      <td>0.0</td>\n",
       "      <td>0.0</td>\n",
       "      <td>0.0</td>\n",
       "      <td>0.0</td>\n",
       "      <td>0.0</td>\n",
       "      <td>0.0</td>\n",
       "      <td>1.0</td>\n",
       "      <td>0.0</td>\n",
       "      <td>0.0</td>\n",
       "      <td>0.0</td>\n",
       "      <td>1.0</td>\n",
       "      <td>1.0</td>\n",
       "    </tr>\n",
       "    <tr>\n",
       "      <th>2</th>\n",
       "      <td>0.452381</td>\n",
       "      <td>0.0</td>\n",
       "      <td>0.697857</td>\n",
       "      <td>0.306122</td>\n",
       "      <td>1.00</td>\n",
       "      <td>0.666667</td>\n",
       "      <td>0.658824</td>\n",
       "      <td>0.333333</td>\n",
       "      <td>0.50</td>\n",
       "      <td>0.333333</td>\n",
       "      <td>0.551831</td>\n",
       "      <td>0.375</td>\n",
       "      <td>0.448980</td>\n",
       "      <td>0.666667</td>\n",
       "      <td>0.666667</td>\n",
       "      <td>0.333333</td>\n",
       "      <td>0.128205</td>\n",
       "      <td>0.0</td>\n",
       "      <td>0.000000</td>\n",
       "      <td>0.051282</td>\n",
       "      <td>0.051282</td>\n",
       "      <td>0.0</td>\n",
       "      <td>0.0</td>\n",
       "      <td>1.0</td>\n",
       "      <td>0.0</td>\n",
       "      <td>0.0</td>\n",
       "      <td>0.0</td>\n",
       "      <td>0.0</td>\n",
       "      <td>0.0</td>\n",
       "      <td>0.0</td>\n",
       "      <td>0.0</td>\n",
       "      <td>1.0</td>\n",
       "      <td>0.0</td>\n",
       "      <td>0.0</td>\n",
       "      <td>0.0</td>\n",
       "      <td>0.0</td>\n",
       "      <td>0.0</td>\n",
       "      <td>1.0</td>\n",
       "      <td>0.0</td>\n",
       "      <td>0.0</td>\n",
       "      <td>0.0</td>\n",
       "      <td>0.0</td>\n",
       "      <td>0.0</td>\n",
       "      <td>0.0</td>\n",
       "      <td>1.0</td>\n",
       "      <td>0.0</td>\n",
       "    </tr>\n",
       "    <tr>\n",
       "      <th>3</th>\n",
       "      <td>0.380952</td>\n",
       "      <td>1.0</td>\n",
       "      <td>0.785000</td>\n",
       "      <td>0.183673</td>\n",
       "      <td>0.25</td>\n",
       "      <td>0.333333</td>\n",
       "      <td>0.982353</td>\n",
       "      <td>0.333333</td>\n",
       "      <td>0.00</td>\n",
       "      <td>1.000000</td>\n",
       "      <td>0.439369</td>\n",
       "      <td>0.250</td>\n",
       "      <td>0.040816</td>\n",
       "      <td>0.000000</td>\n",
       "      <td>1.000000</td>\n",
       "      <td>0.000000</td>\n",
       "      <td>0.153846</td>\n",
       "      <td>0.6</td>\n",
       "      <td>0.666667</td>\n",
       "      <td>0.128205</td>\n",
       "      <td>0.102564</td>\n",
       "      <td>1.0</td>\n",
       "      <td>0.0</td>\n",
       "      <td>0.0</td>\n",
       "      <td>0.0</td>\n",
       "      <td>0.0</td>\n",
       "      <td>0.0</td>\n",
       "      <td>0.0</td>\n",
       "      <td>0.0</td>\n",
       "      <td>0.0</td>\n",
       "      <td>1.0</td>\n",
       "      <td>0.0</td>\n",
       "      <td>0.0</td>\n",
       "      <td>1.0</td>\n",
       "      <td>0.0</td>\n",
       "      <td>0.0</td>\n",
       "      <td>0.0</td>\n",
       "      <td>1.0</td>\n",
       "      <td>0.0</td>\n",
       "      <td>0.0</td>\n",
       "      <td>0.0</td>\n",
       "      <td>0.0</td>\n",
       "      <td>0.0</td>\n",
       "      <td>0.0</td>\n",
       "      <td>0.0</td>\n",
       "      <td>0.0</td>\n",
       "    </tr>\n",
       "    <tr>\n",
       "      <th>4</th>\n",
       "      <td>0.714286</td>\n",
       "      <td>0.0</td>\n",
       "      <td>0.060000</td>\n",
       "      <td>0.673469</td>\n",
       "      <td>0.50</td>\n",
       "      <td>0.666667</td>\n",
       "      <td>0.547059</td>\n",
       "      <td>0.000000</td>\n",
       "      <td>0.50</td>\n",
       "      <td>0.000000</td>\n",
       "      <td>0.310546</td>\n",
       "      <td>0.125</td>\n",
       "      <td>0.285714</td>\n",
       "      <td>0.333333</td>\n",
       "      <td>1.000000</td>\n",
       "      <td>0.333333</td>\n",
       "      <td>0.410256</td>\n",
       "      <td>1.0</td>\n",
       "      <td>0.333333</td>\n",
       "      <td>0.256410</td>\n",
       "      <td>0.128205</td>\n",
       "      <td>0.0</td>\n",
       "      <td>1.0</td>\n",
       "      <td>1.0</td>\n",
       "      <td>0.0</td>\n",
       "      <td>0.0</td>\n",
       "      <td>0.0</td>\n",
       "      <td>0.0</td>\n",
       "      <td>0.0</td>\n",
       "      <td>0.0</td>\n",
       "      <td>0.0</td>\n",
       "      <td>1.0</td>\n",
       "      <td>0.0</td>\n",
       "      <td>1.0</td>\n",
       "      <td>0.0</td>\n",
       "      <td>1.0</td>\n",
       "      <td>0.0</td>\n",
       "      <td>0.0</td>\n",
       "      <td>0.0</td>\n",
       "      <td>0.0</td>\n",
       "      <td>0.0</td>\n",
       "      <td>0.0</td>\n",
       "      <td>0.0</td>\n",
       "      <td>1.0</td>\n",
       "      <td>0.0</td>\n",
       "      <td>1.0</td>\n",
       "    </tr>\n",
       "    <tr>\n",
       "      <th>...</th>\n",
       "      <td>...</td>\n",
       "      <td>...</td>\n",
       "      <td>...</td>\n",
       "      <td>...</td>\n",
       "      <td>...</td>\n",
       "      <td>...</td>\n",
       "      <td>...</td>\n",
       "      <td>...</td>\n",
       "      <td>...</td>\n",
       "      <td>...</td>\n",
       "      <td>...</td>\n",
       "      <td>...</td>\n",
       "      <td>...</td>\n",
       "      <td>...</td>\n",
       "      <td>...</td>\n",
       "      <td>...</td>\n",
       "      <td>...</td>\n",
       "      <td>...</td>\n",
       "      <td>...</td>\n",
       "      <td>...</td>\n",
       "      <td>...</td>\n",
       "      <td>...</td>\n",
       "      <td>...</td>\n",
       "      <td>...</td>\n",
       "      <td>...</td>\n",
       "      <td>...</td>\n",
       "      <td>...</td>\n",
       "      <td>...</td>\n",
       "      <td>...</td>\n",
       "      <td>...</td>\n",
       "      <td>...</td>\n",
       "      <td>...</td>\n",
       "      <td>...</td>\n",
       "      <td>...</td>\n",
       "      <td>...</td>\n",
       "      <td>...</td>\n",
       "      <td>...</td>\n",
       "      <td>...</td>\n",
       "      <td>...</td>\n",
       "      <td>...</td>\n",
       "      <td>...</td>\n",
       "      <td>...</td>\n",
       "      <td>...</td>\n",
       "      <td>...</td>\n",
       "      <td>...</td>\n",
       "      <td>...</td>\n",
       "    </tr>\n",
       "    <tr>\n",
       "      <th>546216</th>\n",
       "      <td>0.047619</td>\n",
       "      <td>0.0</td>\n",
       "      <td>0.980000</td>\n",
       "      <td>0.816327</td>\n",
       "      <td>0.50</td>\n",
       "      <td>0.000000</td>\n",
       "      <td>1.000000</td>\n",
       "      <td>0.666667</td>\n",
       "      <td>0.75</td>\n",
       "      <td>1.000000</td>\n",
       "      <td>0.072541</td>\n",
       "      <td>1.000</td>\n",
       "      <td>0.224490</td>\n",
       "      <td>0.000000</td>\n",
       "      <td>0.000000</td>\n",
       "      <td>0.000000</td>\n",
       "      <td>0.025641</td>\n",
       "      <td>0.6</td>\n",
       "      <td>0.333333</td>\n",
       "      <td>0.000000</td>\n",
       "      <td>0.000000</td>\n",
       "      <td>1.0</td>\n",
       "      <td>0.0</td>\n",
       "      <td>0.0</td>\n",
       "      <td>1.0</td>\n",
       "      <td>0.0</td>\n",
       "      <td>0.0</td>\n",
       "      <td>0.0</td>\n",
       "      <td>0.0</td>\n",
       "      <td>1.0</td>\n",
       "      <td>0.0</td>\n",
       "      <td>0.0</td>\n",
       "      <td>0.0</td>\n",
       "      <td>1.0</td>\n",
       "      <td>0.0</td>\n",
       "      <td>0.0</td>\n",
       "      <td>0.0</td>\n",
       "      <td>1.0</td>\n",
       "      <td>0.0</td>\n",
       "      <td>0.0</td>\n",
       "      <td>0.0</td>\n",
       "      <td>0.0</td>\n",
       "      <td>0.0</td>\n",
       "      <td>0.0</td>\n",
       "      <td>1.0</td>\n",
       "      <td>0.0</td>\n",
       "    </tr>\n",
       "    <tr>\n",
       "      <th>546217</th>\n",
       "      <td>1.000000</td>\n",
       "      <td>1.0</td>\n",
       "      <td>0.850000</td>\n",
       "      <td>0.163265</td>\n",
       "      <td>1.00</td>\n",
       "      <td>0.666667</td>\n",
       "      <td>0.858824</td>\n",
       "      <td>1.000000</td>\n",
       "      <td>0.50</td>\n",
       "      <td>0.000000</td>\n",
       "      <td>0.496470</td>\n",
       "      <td>0.000</td>\n",
       "      <td>0.326531</td>\n",
       "      <td>0.666667</td>\n",
       "      <td>0.000000</td>\n",
       "      <td>0.000000</td>\n",
       "      <td>0.769231</td>\n",
       "      <td>0.4</td>\n",
       "      <td>0.000000</td>\n",
       "      <td>0.410256</td>\n",
       "      <td>0.410256</td>\n",
       "      <td>1.0</td>\n",
       "      <td>0.0</td>\n",
       "      <td>0.0</td>\n",
       "      <td>0.0</td>\n",
       "      <td>0.0</td>\n",
       "      <td>0.0</td>\n",
       "      <td>1.0</td>\n",
       "      <td>0.0</td>\n",
       "      <td>1.0</td>\n",
       "      <td>0.0</td>\n",
       "      <td>0.0</td>\n",
       "      <td>0.0</td>\n",
       "      <td>0.0</td>\n",
       "      <td>0.0</td>\n",
       "      <td>0.0</td>\n",
       "      <td>0.0</td>\n",
       "      <td>1.0</td>\n",
       "      <td>0.0</td>\n",
       "      <td>0.0</td>\n",
       "      <td>0.0</td>\n",
       "      <td>0.0</td>\n",
       "      <td>0.0</td>\n",
       "      <td>0.0</td>\n",
       "      <td>0.0</td>\n",
       "      <td>1.0</td>\n",
       "    </tr>\n",
       "    <tr>\n",
       "      <th>546218</th>\n",
       "      <td>0.785714</td>\n",
       "      <td>0.0</td>\n",
       "      <td>0.832143</td>\n",
       "      <td>1.000000</td>\n",
       "      <td>0.50</td>\n",
       "      <td>1.000000</td>\n",
       "      <td>0.729412</td>\n",
       "      <td>0.333333</td>\n",
       "      <td>0.50</td>\n",
       "      <td>0.000000</td>\n",
       "      <td>0.223164</td>\n",
       "      <td>0.000</td>\n",
       "      <td>0.040816</td>\n",
       "      <td>0.666667</td>\n",
       "      <td>0.666667</td>\n",
       "      <td>1.000000</td>\n",
       "      <td>0.358974</td>\n",
       "      <td>0.2</td>\n",
       "      <td>0.333333</td>\n",
       "      <td>0.282051</td>\n",
       "      <td>0.000000</td>\n",
       "      <td>0.0</td>\n",
       "      <td>0.0</td>\n",
       "      <td>0.0</td>\n",
       "      <td>0.0</td>\n",
       "      <td>0.0</td>\n",
       "      <td>0.0</td>\n",
       "      <td>0.0</td>\n",
       "      <td>0.0</td>\n",
       "      <td>0.0</td>\n",
       "      <td>0.0</td>\n",
       "      <td>1.0</td>\n",
       "      <td>0.0</td>\n",
       "      <td>0.0</td>\n",
       "      <td>1.0</td>\n",
       "      <td>0.0</td>\n",
       "      <td>0.0</td>\n",
       "      <td>0.0</td>\n",
       "      <td>0.0</td>\n",
       "      <td>0.0</td>\n",
       "      <td>0.0</td>\n",
       "      <td>0.0</td>\n",
       "      <td>0.0</td>\n",
       "      <td>1.0</td>\n",
       "      <td>0.0</td>\n",
       "      <td>0.0</td>\n",
       "    </tr>\n",
       "    <tr>\n",
       "      <th>546219</th>\n",
       "      <td>0.880952</td>\n",
       "      <td>0.0</td>\n",
       "      <td>0.855714</td>\n",
       "      <td>0.653061</td>\n",
       "      <td>1.00</td>\n",
       "      <td>0.000000</td>\n",
       "      <td>0.658824</td>\n",
       "      <td>0.000000</td>\n",
       "      <td>0.50</td>\n",
       "      <td>0.666667</td>\n",
       "      <td>0.375808</td>\n",
       "      <td>0.625</td>\n",
       "      <td>0.530612</td>\n",
       "      <td>0.666667</td>\n",
       "      <td>1.000000</td>\n",
       "      <td>0.000000</td>\n",
       "      <td>0.717949</td>\n",
       "      <td>0.6</td>\n",
       "      <td>1.000000</td>\n",
       "      <td>0.692308</td>\n",
       "      <td>0.384615</td>\n",
       "      <td>0.0</td>\n",
       "      <td>0.0</td>\n",
       "      <td>0.0</td>\n",
       "      <td>0.0</td>\n",
       "      <td>0.0</td>\n",
       "      <td>0.0</td>\n",
       "      <td>1.0</td>\n",
       "      <td>0.0</td>\n",
       "      <td>0.0</td>\n",
       "      <td>0.0</td>\n",
       "      <td>0.0</td>\n",
       "      <td>0.0</td>\n",
       "      <td>0.0</td>\n",
       "      <td>0.0</td>\n",
       "      <td>0.0</td>\n",
       "      <td>0.0</td>\n",
       "      <td>0.0</td>\n",
       "      <td>0.0</td>\n",
       "      <td>0.0</td>\n",
       "      <td>0.0</td>\n",
       "      <td>1.0</td>\n",
       "      <td>0.0</td>\n",
       "      <td>0.0</td>\n",
       "      <td>1.0</td>\n",
       "      <td>0.0</td>\n",
       "    </tr>\n",
       "    <tr>\n",
       "      <th>546220</th>\n",
       "      <td>0.619048</td>\n",
       "      <td>1.0</td>\n",
       "      <td>0.689286</td>\n",
       "      <td>0.673469</td>\n",
       "      <td>0.50</td>\n",
       "      <td>1.000000</td>\n",
       "      <td>0.423529</td>\n",
       "      <td>0.333333</td>\n",
       "      <td>0.00</td>\n",
       "      <td>0.666667</td>\n",
       "      <td>0.174723</td>\n",
       "      <td>0.875</td>\n",
       "      <td>0.510204</td>\n",
       "      <td>0.666667</td>\n",
       "      <td>0.666667</td>\n",
       "      <td>1.000000</td>\n",
       "      <td>0.487179</td>\n",
       "      <td>0.2</td>\n",
       "      <td>0.666667</td>\n",
       "      <td>0.025641</td>\n",
       "      <td>0.000000</td>\n",
       "      <td>0.0</td>\n",
       "      <td>0.0</td>\n",
       "      <td>0.0</td>\n",
       "      <td>1.0</td>\n",
       "      <td>0.0</td>\n",
       "      <td>0.0</td>\n",
       "      <td>0.0</td>\n",
       "      <td>0.0</td>\n",
       "      <td>0.0</td>\n",
       "      <td>0.0</td>\n",
       "      <td>0.0</td>\n",
       "      <td>0.0</td>\n",
       "      <td>0.0</td>\n",
       "      <td>1.0</td>\n",
       "      <td>0.0</td>\n",
       "      <td>0.0</td>\n",
       "      <td>0.0</td>\n",
       "      <td>0.0</td>\n",
       "      <td>0.0</td>\n",
       "      <td>0.0</td>\n",
       "      <td>0.0</td>\n",
       "      <td>0.0</td>\n",
       "      <td>1.0</td>\n",
       "      <td>0.0</td>\n",
       "      <td>1.0</td>\n",
       "    </tr>\n",
       "  </tbody>\n",
       "</table>\n",
       "<p>546221 rows × 46 columns</p>\n",
       "</div>"
      ],
      "text/plain": [
       "             Age  Attrition  DailyRate  DistanceFromHome  Education  \\\n",
       "0       0.952381        0.0   0.071429          0.244898       1.00   \n",
       "1       0.404762        0.0   0.436429          0.551020       0.75   \n",
       "2       0.452381        0.0   0.697857          0.306122       1.00   \n",
       "3       0.380952        1.0   0.785000          0.183673       0.25   \n",
       "4       0.714286        0.0   0.060000          0.673469       0.50   \n",
       "...          ...        ...        ...               ...        ...   \n",
       "546216  0.047619        0.0   0.980000          0.816327       0.50   \n",
       "546217  1.000000        1.0   0.850000          0.163265       1.00   \n",
       "546218  0.785714        0.0   0.832143          1.000000       0.50   \n",
       "546219  0.880952        0.0   0.855714          0.653061       1.00   \n",
       "546220  0.619048        1.0   0.689286          0.673469       0.50   \n",
       "\n",
       "        EnvironmentSatisfaction  HourlyRate  JobInvolvement  JobLevel  \\\n",
       "0                      0.000000    0.017647        1.000000      1.00   \n",
       "1                      0.666667    0.352941        0.000000      1.00   \n",
       "2                      0.666667    0.658824        0.333333      0.50   \n",
       "3                      0.333333    0.982353        0.333333      0.00   \n",
       "4                      0.666667    0.547059        0.000000      0.50   \n",
       "...                         ...         ...             ...       ...   \n",
       "546216                 0.000000    1.000000        0.666667      0.75   \n",
       "546217                 0.666667    0.858824        1.000000      0.50   \n",
       "546218                 1.000000    0.729412        0.333333      0.50   \n",
       "546219                 0.000000    0.658824        0.000000      0.50   \n",
       "546220                 1.000000    0.423529        0.333333      0.00   \n",
       "\n",
       "        JobSatisfaction  MonthlyIncome  NumCompaniesWorked  PercentSalaryHike  \\\n",
       "0              1.000000       0.325767               0.750           0.693878   \n",
       "1              0.000000       0.800016               0.750           0.959184   \n",
       "2              0.333333       0.551831               0.375           0.448980   \n",
       "3              1.000000       0.439369               0.250           0.040816   \n",
       "4              0.000000       0.310546               0.125           0.285714   \n",
       "...                 ...            ...                 ...                ...   \n",
       "546216         1.000000       0.072541               1.000           0.224490   \n",
       "546217         0.000000       0.496470               0.000           0.326531   \n",
       "546218         0.000000       0.223164               0.000           0.040816   \n",
       "546219         0.666667       0.375808               0.625           0.530612   \n",
       "546220         0.666667       0.174723               0.875           0.510204   \n",
       "\n",
       "        PerformanceRating  RelationshipSatisfaction  StockOptionLevel  \\\n",
       "0                0.333333                  0.333333          1.000000   \n",
       "1                1.000000                  1.000000          0.666667   \n",
       "2                0.666667                  0.666667          0.333333   \n",
       "3                0.000000                  1.000000          0.000000   \n",
       "4                0.333333                  1.000000          0.333333   \n",
       "...                   ...                       ...               ...   \n",
       "546216           0.000000                  0.000000          0.000000   \n",
       "546217           0.666667                  0.000000          0.000000   \n",
       "546218           0.666667                  0.666667          1.000000   \n",
       "546219           0.666667                  1.000000          0.000000   \n",
       "546220           0.666667                  0.666667          1.000000   \n",
       "\n",
       "        TotalWorkingYears  TrainingTimesLastYear  WorkLifeBalance  \\\n",
       "0                1.000000                    0.4         1.000000   \n",
       "1                0.000000                    0.0         1.000000   \n",
       "2                0.128205                    0.0         0.000000   \n",
       "3                0.153846                    0.6         0.666667   \n",
       "4                0.410256                    1.0         0.333333   \n",
       "...                   ...                    ...              ...   \n",
       "546216           0.025641                    0.6         0.333333   \n",
       "546217           0.769231                    0.4         0.000000   \n",
       "546218           0.358974                    0.2         0.333333   \n",
       "546219           0.717949                    0.6         1.000000   \n",
       "546220           0.487179                    0.2         0.666667   \n",
       "\n",
       "        YearsAtCompany  YearsSinceLastPromotion  \\\n",
       "0             0.769231                 0.000000   \n",
       "1             0.000000                 0.000000   \n",
       "2             0.051282                 0.051282   \n",
       "3             0.128205                 0.102564   \n",
       "4             0.256410                 0.128205   \n",
       "...                ...                      ...   \n",
       "546216        0.000000                 0.000000   \n",
       "546217        0.410256                 0.410256   \n",
       "546218        0.282051                 0.000000   \n",
       "546219        0.692308                 0.384615   \n",
       "546220        0.025641                 0.000000   \n",
       "\n",
       "        BusinessTravel_Travel_Frequently  BusinessTravel_Travel_Rarely  \\\n",
       "0                                    1.0                           0.0   \n",
       "1                                    0.0                           1.0   \n",
       "2                                    0.0                           0.0   \n",
       "3                                    1.0                           0.0   \n",
       "4                                    0.0                           1.0   \n",
       "...                                  ...                           ...   \n",
       "546216                               1.0                           0.0   \n",
       "546217                               1.0                           0.0   \n",
       "546218                               0.0                           0.0   \n",
       "546219                               0.0                           0.0   \n",
       "546220                               0.0                           0.0   \n",
       "\n",
       "        Department_Human Resources  Department_Research & Development  \\\n",
       "0                              0.0                                0.0   \n",
       "1                              0.0                                1.0   \n",
       "2                              1.0                                0.0   \n",
       "3                              0.0                                0.0   \n",
       "4                              1.0                                0.0   \n",
       "...                            ...                                ...   \n",
       "546216                         0.0                                1.0   \n",
       "546217                         0.0                                0.0   \n",
       "546218                         0.0                                0.0   \n",
       "546219                         0.0                                0.0   \n",
       "546220                         0.0                                1.0   \n",
       "\n",
       "        Department_Sales  Department_Software  Department_Support  \\\n",
       "0                    0.0                  0.0                 0.0   \n",
       "1                    0.0                  0.0                 0.0   \n",
       "2                    0.0                  0.0                 0.0   \n",
       "3                    0.0                  0.0                 0.0   \n",
       "4                    0.0                  0.0                 0.0   \n",
       "...                  ...                  ...                 ...   \n",
       "546216               0.0                  0.0                 0.0   \n",
       "546217               0.0                  0.0                 1.0   \n",
       "546218               0.0                  0.0                 0.0   \n",
       "546219               0.0                  0.0                 1.0   \n",
       "546220               0.0                  0.0                 0.0   \n",
       "\n",
       "        EducationField_Life Sciences  EducationField_Marketing  \\\n",
       "0                                1.0                       0.0   \n",
       "1                                0.0                       0.0   \n",
       "2                                0.0                       0.0   \n",
       "3                                0.0                       0.0   \n",
       "4                                0.0                       0.0   \n",
       "...                              ...                       ...   \n",
       "546216                           0.0                       1.0   \n",
       "546217                           0.0                       1.0   \n",
       "546218                           0.0                       0.0   \n",
       "546219                           0.0                       0.0   \n",
       "546220                           0.0                       0.0   \n",
       "\n",
       "        EducationField_Medical  EducationField_Other  \\\n",
       "0                          0.0                   0.0   \n",
       "1                          0.0                   0.0   \n",
       "2                          0.0                   1.0   \n",
       "3                          1.0                   0.0   \n",
       "4                          0.0                   1.0   \n",
       "...                        ...                   ...   \n",
       "546216                     0.0                   0.0   \n",
       "546217                     0.0                   0.0   \n",
       "546218                     0.0                   1.0   \n",
       "546219                     0.0                   0.0   \n",
       "546220                     0.0                   0.0   \n",
       "\n",
       "        EducationField_Technical Degree  Gender_Male  \\\n",
       "0                                   0.0          1.0   \n",
       "1                                   1.0          1.0   \n",
       "2                                   0.0          0.0   \n",
       "3                                   0.0          1.0   \n",
       "4                                   0.0          1.0   \n",
       "...                                 ...          ...   \n",
       "546216                              0.0          1.0   \n",
       "546217                              0.0          0.0   \n",
       "546218                              0.0          0.0   \n",
       "546219                              0.0          0.0   \n",
       "546220                              0.0          0.0   \n",
       "\n",
       "        JobRole_Healthcare Representative  JobRole_Human Resources  \\\n",
       "0                                     0.0                      0.0   \n",
       "1                                     0.0                      0.0   \n",
       "2                                     0.0                      0.0   \n",
       "3                                     0.0                      0.0   \n",
       "4                                     0.0                      1.0   \n",
       "...                                   ...                      ...   \n",
       "546216                                0.0                      0.0   \n",
       "546217                                0.0                      0.0   \n",
       "546218                                1.0                      0.0   \n",
       "546219                                0.0                      0.0   \n",
       "546220                                1.0                      0.0   \n",
       "\n",
       "        JobRole_Laboratory Technician  JobRole_Manager  \\\n",
       "0                                 0.0              0.0   \n",
       "1                                 0.0              0.0   \n",
       "2                                 0.0              1.0   \n",
       "3                                 0.0              1.0   \n",
       "4                                 0.0              0.0   \n",
       "...                               ...              ...   \n",
       "546216                            0.0              1.0   \n",
       "546217                            0.0              1.0   \n",
       "546218                            0.0              0.0   \n",
       "546219                            0.0              0.0   \n",
       "546220                            0.0              0.0   \n",
       "\n",
       "        JobRole_Manufacturing Director  JobRole_Research Director  \\\n",
       "0                                  0.0                        0.0   \n",
       "1                                  0.0                        0.0   \n",
       "2                                  0.0                        0.0   \n",
       "3                                  0.0                        0.0   \n",
       "4                                  0.0                        0.0   \n",
       "...                                ...                        ...   \n",
       "546216                             0.0                        0.0   \n",
       "546217                             0.0                        0.0   \n",
       "546218                             0.0                        0.0   \n",
       "546219                             0.0                        0.0   \n",
       "546220                             0.0                        0.0   \n",
       "\n",
       "        JobRole_Research Scientist  JobRole_Sales Executive  \\\n",
       "0                              0.0                      1.0   \n",
       "1                              1.0                      0.0   \n",
       "2                              0.0                      0.0   \n",
       "3                              0.0                      0.0   \n",
       "4                              0.0                      0.0   \n",
       "...                            ...                      ...   \n",
       "546216                         0.0                      0.0   \n",
       "546217                         0.0                      0.0   \n",
       "546218                         0.0                      0.0   \n",
       "546219                         0.0                      1.0   \n",
       "546220                         0.0                      0.0   \n",
       "\n",
       "        JobRole_Sales Representative  MaritalStatus_Married  \\\n",
       "0                                0.0                    1.0   \n",
       "1                                0.0                    0.0   \n",
       "2                                0.0                    0.0   \n",
       "3                                0.0                    0.0   \n",
       "4                                0.0                    1.0   \n",
       "...                              ...                    ...   \n",
       "546216                           0.0                    0.0   \n",
       "546217                           0.0                    0.0   \n",
       "546218                           0.0                    1.0   \n",
       "546219                           0.0                    0.0   \n",
       "546220                           0.0                    1.0   \n",
       "\n",
       "        MaritalStatus_Single  OverTime_Yes  \n",
       "0                        0.0           0.0  \n",
       "1                        1.0           1.0  \n",
       "2                        1.0           0.0  \n",
       "3                        0.0           0.0  \n",
       "4                        0.0           1.0  \n",
       "...                      ...           ...  \n",
       "546216                   1.0           0.0  \n",
       "546217                   0.0           1.0  \n",
       "546218                   0.0           0.0  \n",
       "546219                   1.0           0.0  \n",
       "546220                   0.0           1.0  \n",
       "\n",
       "[546221 rows x 46 columns]"
      ]
     },
     "execution_count": 5,
     "metadata": {},
     "output_type": "execute_result"
    }
   ],
   "source": [
    "df"
   ]
  },
  {
   "cell_type": "code",
   "execution_count": 6,
   "id": "9f8ded03",
   "metadata": {},
   "outputs": [
    {
     "data": {
      "text/plain": [
       "array([0., 1.])"
      ]
     },
     "execution_count": 6,
     "metadata": {},
     "output_type": "execute_result"
    }
   ],
   "source": [
    "df[\"Attrition\"].unique()"
   ]
  },
  {
   "cell_type": "code",
   "execution_count": 7,
   "id": "1b35ffc0",
   "metadata": {
    "scrolled": false
   },
   "outputs": [
    {
     "name": "stdout",
     "output_type": "stream",
     "text": [
      "<class 'pandas.core.frame.DataFrame'>\n",
      "RangeIndex: 546221 entries, 0 to 546220\n",
      "Data columns (total 46 columns):\n",
      " #   Column                             Non-Null Count   Dtype  \n",
      "---  ------                             --------------   -----  \n",
      " 0   Age                                546221 non-null  float64\n",
      " 1   Attrition                          546221 non-null  float64\n",
      " 2   DailyRate                          546221 non-null  float64\n",
      " 3   DistanceFromHome                   546221 non-null  float64\n",
      " 4   Education                          546221 non-null  float64\n",
      " 5   EnvironmentSatisfaction            546221 non-null  float64\n",
      " 6   HourlyRate                         546221 non-null  float64\n",
      " 7   JobInvolvement                     546221 non-null  float64\n",
      " 8   JobLevel                           546221 non-null  float64\n",
      " 9   JobSatisfaction                    546221 non-null  float64\n",
      " 10  MonthlyIncome                      546221 non-null  float64\n",
      " 11  NumCompaniesWorked                 546221 non-null  float64\n",
      " 12  PercentSalaryHike                  546221 non-null  float64\n",
      " 13  PerformanceRating                  546221 non-null  float64\n",
      " 14  RelationshipSatisfaction           546221 non-null  float64\n",
      " 15  StockOptionLevel                   546221 non-null  float64\n",
      " 16  TotalWorkingYears                  546221 non-null  float64\n",
      " 17  TrainingTimesLastYear              546221 non-null  float64\n",
      " 18  WorkLifeBalance                    546221 non-null  float64\n",
      " 19  YearsAtCompany                     546221 non-null  float64\n",
      " 20  YearsSinceLastPromotion            546221 non-null  float64\n",
      " 21  BusinessTravel_Travel_Frequently   546221 non-null  float64\n",
      " 22  BusinessTravel_Travel_Rarely       546221 non-null  float64\n",
      " 23  Department_Human Resources         546221 non-null  float64\n",
      " 24  Department_Research & Development  546221 non-null  float64\n",
      " 25  Department_Sales                   546221 non-null  float64\n",
      " 26  Department_Software                546221 non-null  float64\n",
      " 27  Department_Support                 546221 non-null  float64\n",
      " 28  EducationField_Life Sciences       546221 non-null  float64\n",
      " 29  EducationField_Marketing           546221 non-null  float64\n",
      " 30  EducationField_Medical             546221 non-null  float64\n",
      " 31  EducationField_Other               546221 non-null  float64\n",
      " 32  EducationField_Technical Degree    546221 non-null  float64\n",
      " 33  Gender_Male                        546221 non-null  float64\n",
      " 34  JobRole_Healthcare Representative  546221 non-null  float64\n",
      " 35  JobRole_Human Resources            546221 non-null  float64\n",
      " 36  JobRole_Laboratory Technician      546221 non-null  float64\n",
      " 37  JobRole_Manager                    546221 non-null  float64\n",
      " 38  JobRole_Manufacturing Director     546221 non-null  float64\n",
      " 39  JobRole_Research Director          546221 non-null  float64\n",
      " 40  JobRole_Research Scientist         546221 non-null  float64\n",
      " 41  JobRole_Sales Executive            546221 non-null  float64\n",
      " 42  JobRole_Sales Representative       546221 non-null  float64\n",
      " 43  MaritalStatus_Married              546221 non-null  float64\n",
      " 44  MaritalStatus_Single               546221 non-null  float64\n",
      " 45  OverTime_Yes                       546221 non-null  float64\n",
      "dtypes: float64(46)\n",
      "memory usage: 191.7 MB\n"
     ]
    }
   ],
   "source": [
    "df.info()"
   ]
  },
  {
   "cell_type": "code",
   "execution_count": 8,
   "id": "ce18c07d",
   "metadata": {},
   "outputs": [
    {
     "data": {
      "text/plain": [
       "Index(['Age', 'Attrition', 'DailyRate', 'DistanceFromHome', 'Education',\n",
       "       'EnvironmentSatisfaction', 'HourlyRate', 'JobInvolvement', 'JobLevel',\n",
       "       'JobSatisfaction', 'MonthlyIncome', 'NumCompaniesWorked',\n",
       "       'PercentSalaryHike', 'PerformanceRating', 'RelationshipSatisfaction',\n",
       "       'StockOptionLevel', 'TotalWorkingYears', 'TrainingTimesLastYear',\n",
       "       'WorkLifeBalance', 'YearsAtCompany', 'YearsSinceLastPromotion',\n",
       "       'BusinessTravel_Travel_Frequently', 'BusinessTravel_Travel_Rarely',\n",
       "       'Department_Human Resources', 'Department_Research & Development',\n",
       "       'Department_Sales', 'Department_Software', 'Department_Support',\n",
       "       'EducationField_Life Sciences', 'EducationField_Marketing',\n",
       "       'EducationField_Medical', 'EducationField_Other',\n",
       "       'EducationField_Technical Degree', 'Gender_Male',\n",
       "       'JobRole_Healthcare Representative', 'JobRole_Human Resources',\n",
       "       'JobRole_Laboratory Technician', 'JobRole_Manager',\n",
       "       'JobRole_Manufacturing Director', 'JobRole_Research Director',\n",
       "       'JobRole_Research Scientist', 'JobRole_Sales Executive',\n",
       "       'JobRole_Sales Representative', 'MaritalStatus_Married',\n",
       "       'MaritalStatus_Single', 'OverTime_Yes'],\n",
       "      dtype='object')"
      ]
     },
     "execution_count": 8,
     "metadata": {},
     "output_type": "execute_result"
    }
   ],
   "source": [
    "df.columns"
   ]
  },
  {
   "cell_type": "code",
   "execution_count": 9,
   "id": "3c7c1276",
   "metadata": {},
   "outputs": [],
   "source": [
    "x=df.drop(\"Attrition\",axis=1)\n",
    "y=df[\"Attrition\"]"
   ]
  },
  {
   "cell_type": "code",
   "execution_count": 10,
   "id": "b6ff8d96",
   "metadata": {},
   "outputs": [],
   "source": [
    "x_train,x_test,y_train,y_test=train_test_split(x,y,test_size=0.2,random_state=67)"
   ]
  },
  {
   "cell_type": "markdown",
   "id": "d68da547",
   "metadata": {},
   "source": [
    "# Training the ml models "
   ]
  },
  {
   "cell_type": "markdown",
   "id": "d8a19bd8",
   "metadata": {},
   "source": [
    "## Logistic Regression"
   ]
  },
  {
   "cell_type": "code",
   "execution_count": 18,
   "id": "4b433f7b",
   "metadata": {},
   "outputs": [
    {
     "data": {
      "text/plain": [
       "array([1, 1, 1, ..., 0, 1, 1], dtype=int64)"
      ]
     },
     "execution_count": 18,
     "metadata": {},
     "output_type": "execute_result"
    }
   ],
   "source": [
    "model=lg().fit(x_train,y_train)\n",
    "p=model.predict(x_test)\n",
    "p"
   ]
  },
  {
   "cell_type": "code",
   "execution_count": 19,
   "id": "2e77e355",
   "metadata": {},
   "outputs": [
    {
     "name": "stdout",
     "output_type": "stream",
     "text": [
      "Training Accuracy: 0.503746201164366\n",
      "------------------------------------------------------------\n",
      "Testing Accuracy: 0.4993455078035608\n",
      "------------------------------------------------------------\n",
      "confusion_matrix:\n",
      " [[26528 28200]\n",
      " [26494 28023]]\n",
      "------------------------------------------------------------\n",
      "classifiction_report:\n",
      "               precision    recall  f1-score   support\n",
      "\n",
      "           0       0.50      0.48      0.49     54728\n",
      "           1       0.50      0.51      0.51     54517\n",
      "\n",
      "    accuracy                           0.50    109245\n",
      "   macro avg       0.50      0.50      0.50    109245\n",
      "weighted avg       0.50      0.50      0.50    109245\n",
      "\n"
     ]
    }
   ],
   "source": [
    "print(\"Training Accuracy:\",model.score(x_train,y_train))\n",
    "print(\"------------------------------------------------------------\")\n",
    "print(\"Testing Accuracy:\",acs(y_test,p))\n",
    "print(\"------------------------------------------------------------\")\n",
    "print(\"confusion_matrix:\\n\",cm(y_test,p))\n",
    "print(\"------------------------------------------------------------\")\n",
    "print(\"classifiction_report:\\n\",cr(y_test,p))"
   ]
  },
  {
   "cell_type": "markdown",
   "id": "d8df8a75",
   "metadata": {},
   "source": [
    "## Decision tree"
   ]
  },
  {
   "cell_type": "code",
   "execution_count": 11,
   "id": "c0b0c79f",
   "metadata": {},
   "outputs": [
    {
     "name": "stdout",
     "output_type": "stream",
     "text": [
      "DecisionTreeClassifier\n"
     ]
    },
    {
     "data": {
      "text/plain": [
       "array([0., 1., 0., ..., 0., 1., 1.])"
      ]
     },
     "execution_count": 11,
     "metadata": {},
     "output_type": "execute_result"
    }
   ],
   "source": [
    "dtc1 = DecisionTreeClassifier()\n",
    "dtc1.fit(x_train, y_train)\n",
    "print(\"DecisionTreeClassifier\")\n",
    "p1=dtc1.predict(x_test)\n",
    "p1"
   ]
  },
  {
   "cell_type": "code",
   "execution_count": 12,
   "id": "70836f38",
   "metadata": {},
   "outputs": [
    {
     "name": "stdout",
     "output_type": "stream",
     "text": [
      "Training Accuracy: 1.0\n",
      "------------------------------------------------------------\n",
      "Testing Accuracy: 0.508133095336171\n",
      "------------------------------------------------------------\n",
      "confusion_matrix:\n",
      " [[27958 26770]\n",
      " [26964 27553]]\n",
      "------------------------------------------------------------\n",
      "classifiction_report:\n",
      "               precision    recall  f1-score   support\n",
      "\n",
      "         0.0       0.51      0.51      0.51     54728\n",
      "         1.0       0.51      0.51      0.51     54517\n",
      "\n",
      "    accuracy                           0.51    109245\n",
      "   macro avg       0.51      0.51      0.51    109245\n",
      "weighted avg       0.51      0.51      0.51    109245\n",
      "\n"
     ]
    }
   ],
   "source": [
    "print(\"Training Accuracy:\",dtc1.score(x_train,y_train))\n",
    "print(\"------------------------------------------------------------\")\n",
    "print(\"Testing Accuracy:\",acs(y_test,p1))\n",
    "print(\"------------------------------------------------------------\")\n",
    "print(\"confusion_matrix:\\n\",cm(y_test,p1))\n",
    "print(\"------------------------------------------------------------\")\n",
    "print(\"classifiction_report:\\n\",cr(y_test,p1))"
   ]
  },
  {
   "cell_type": "markdown",
   "id": "6016b505",
   "metadata": {},
   "source": [
    "from sklearn import tree\n",
    "plt.figure(figsize=(24,14))\n",
    "tree.plot_tree(dtc1,filled=True,fontsize=14)\n",
    "plt.show()"
   ]
  },
  {
   "cell_type": "markdown",
   "id": "131584f4",
   "metadata": {},
   "source": [
    "## Random Forest Classifier"
   ]
  },
  {
   "cell_type": "code",
   "execution_count": 24,
   "id": "03b94e4c",
   "metadata": {},
   "outputs": [],
   "source": [
    "classifier= RandomForestClassifier(n_estimators= 10, criterion=\"entropy\")  \n",
    "classifier.fit(x_train, y_train)  \n",
    "\n",
    "#Predicting the test set result  \n",
    "y_pred= classifier.predict(x_test)  "
   ]
  },
  {
   "cell_type": "code",
   "execution_count": 25,
   "id": "95e4442a",
   "metadata": {},
   "outputs": [
    {
     "name": "stdout",
     "output_type": "stream",
     "text": [
      "Training Accuracy: 0.9865965178865659\n",
      "------------------------------------------------------------------\n",
      "Testing Accuracy: 0.5070804155796604\n",
      "------------------------------------------------------------------\n",
      "confusion_matrix:\n",
      " [[34335 20393]\n",
      " [33456 21061]]\n",
      "------------------------------------------------------------------\n",
      "classifiction_report:\n",
      "               precision    recall  f1-score   support\n",
      "\n",
      "           0       0.51      0.63      0.56     54728\n",
      "           1       0.51      0.39      0.44     54517\n",
      "\n",
      "    accuracy                           0.51    109245\n",
      "   macro avg       0.51      0.51      0.50    109245\n",
      "weighted avg       0.51      0.51      0.50    109245\n",
      "\n"
     ]
    }
   ],
   "source": [
    "print(\"Training Accuracy:\",classifier.score(x_train,y_train))\n",
    "print(\"------------------------------------------------------------------\")\n",
    "print(\"Testing Accuracy:\",acs(y_test,y_pred))\n",
    "print(\"------------------------------------------------------------------\")\n",
    "print(\"confusion_matrix:\\n\",cm(y_test,y_pred))\n",
    "print(\"------------------------------------------------------------------\")\n",
    "print(\"classifiction_report:\\n\",cr(y_test,y_pred))"
   ]
  },
  {
   "cell_type": "markdown",
   "id": "296774cf",
   "metadata": {},
   "source": [
    "## KNeighbors Classifier"
   ]
  },
  {
   "cell_type": "code",
   "execution_count": 26,
   "id": "1163403c",
   "metadata": {},
   "outputs": [],
   "source": [
    "kneighbor=knc().fit(x_train,y_train)\n",
    "\n",
    "p5=kneighbor.predict(x_test)"
   ]
  },
  {
   "cell_type": "code",
   "execution_count": 27,
   "id": "44e54e5a",
   "metadata": {},
   "outputs": [
    {
     "name": "stdout",
     "output_type": "stream",
     "text": [
      "Training Accuracy: 0.6873512504119219\n",
      "---------------------------------------------------------------\n",
      "Testing Accuracy: 0.5009565655178727\n",
      "---------------------------------------------------------------\n",
      "confusion_matrix:\n",
      " [[27345 27383]\n",
      " [27135 27382]]\n",
      "---------------------------------------------------------------\n",
      "classifiction_report:\n",
      "               precision    recall  f1-score   support\n",
      "\n",
      "           0       0.50      0.50      0.50     54728\n",
      "           1       0.50      0.50      0.50     54517\n",
      "\n",
      "    accuracy                           0.50    109245\n",
      "   macro avg       0.50      0.50      0.50    109245\n",
      "weighted avg       0.50      0.50      0.50    109245\n",
      "\n"
     ]
    }
   ],
   "source": [
    "print(\"Training Accuracy:\",kneighbor.score(x_train,y_train))\n",
    "print(\"---------------------------------------------------------------\")\n",
    "print(\"Testing Accuracy:\",acs(y_test,p5))\n",
    "print(\"---------------------------------------------------------------\")\n",
    "print(\"confusion_matrix:\\n\",cm(y_test,p5))\n",
    "print(\"---------------------------------------------------------------\")\n",
    "print(\"classifiction_report:\\n\",cr(y_test,p5))"
   ]
  },
  {
   "cell_type": "markdown",
   "id": "caf48993",
   "metadata": {},
   "source": [
    "## xgboost"
   ]
  },
  {
   "cell_type": "code",
   "execution_count": 28,
   "id": "ab3e2cac",
   "metadata": {},
   "outputs": [],
   "source": [
    "import xgboost as xgb"
   ]
  },
  {
   "cell_type": "code",
   "execution_count": 29,
   "id": "c061c99c",
   "metadata": {},
   "outputs": [
    {
     "name": "stdout",
     "output_type": "stream",
     "text": [
      "[14:21:16] WARNING: C:\\Windows\\Temp\\abs_557yfx631l\\croots\\recipe\\xgboost-split_1659548953302\\work\\src\\learner.cc:1115: Starting in XGBoost 1.3.0, the default evaluation metric used with the objective 'binary:logistic' was changed from 'error' to 'logloss'. Explicitly set eval_metric if you'd like to restore the old behavior.\n"
     ]
    },
    {
     "data": {
      "text/html": [
       "<style>#sk-container-id-1 {color: black;background-color: white;}#sk-container-id-1 pre{padding: 0;}#sk-container-id-1 div.sk-toggleable {background-color: white;}#sk-container-id-1 label.sk-toggleable__label {cursor: pointer;display: block;width: 100%;margin-bottom: 0;padding: 0.3em;box-sizing: border-box;text-align: center;}#sk-container-id-1 label.sk-toggleable__label-arrow:before {content: \"▸\";float: left;margin-right: 0.25em;color: #696969;}#sk-container-id-1 label.sk-toggleable__label-arrow:hover:before {color: black;}#sk-container-id-1 div.sk-estimator:hover label.sk-toggleable__label-arrow:before {color: black;}#sk-container-id-1 div.sk-toggleable__content {max-height: 0;max-width: 0;overflow: hidden;text-align: left;background-color: #f0f8ff;}#sk-container-id-1 div.sk-toggleable__content pre {margin: 0.2em;color: black;border-radius: 0.25em;background-color: #f0f8ff;}#sk-container-id-1 input.sk-toggleable__control:checked~div.sk-toggleable__content {max-height: 200px;max-width: 100%;overflow: auto;}#sk-container-id-1 input.sk-toggleable__control:checked~label.sk-toggleable__label-arrow:before {content: \"▾\";}#sk-container-id-1 div.sk-estimator input.sk-toggleable__control:checked~label.sk-toggleable__label {background-color: #d4ebff;}#sk-container-id-1 div.sk-label input.sk-toggleable__control:checked~label.sk-toggleable__label {background-color: #d4ebff;}#sk-container-id-1 input.sk-hidden--visually {border: 0;clip: rect(1px 1px 1px 1px);clip: rect(1px, 1px, 1px, 1px);height: 1px;margin: -1px;overflow: hidden;padding: 0;position: absolute;width: 1px;}#sk-container-id-1 div.sk-estimator {font-family: monospace;background-color: #f0f8ff;border: 1px dotted black;border-radius: 0.25em;box-sizing: border-box;margin-bottom: 0.5em;}#sk-container-id-1 div.sk-estimator:hover {background-color: #d4ebff;}#sk-container-id-1 div.sk-parallel-item::after {content: \"\";width: 100%;border-bottom: 1px solid gray;flex-grow: 1;}#sk-container-id-1 div.sk-label:hover label.sk-toggleable__label {background-color: #d4ebff;}#sk-container-id-1 div.sk-serial::before {content: \"\";position: absolute;border-left: 1px solid gray;box-sizing: border-box;top: 0;bottom: 0;left: 50%;z-index: 0;}#sk-container-id-1 div.sk-serial {display: flex;flex-direction: column;align-items: center;background-color: white;padding-right: 0.2em;padding-left: 0.2em;position: relative;}#sk-container-id-1 div.sk-item {position: relative;z-index: 1;}#sk-container-id-1 div.sk-parallel {display: flex;align-items: stretch;justify-content: center;background-color: white;position: relative;}#sk-container-id-1 div.sk-item::before, #sk-container-id-1 div.sk-parallel-item::before {content: \"\";position: absolute;border-left: 1px solid gray;box-sizing: border-box;top: 0;bottom: 0;left: 50%;z-index: -1;}#sk-container-id-1 div.sk-parallel-item {display: flex;flex-direction: column;z-index: 1;position: relative;background-color: white;}#sk-container-id-1 div.sk-parallel-item:first-child::after {align-self: flex-end;width: 50%;}#sk-container-id-1 div.sk-parallel-item:last-child::after {align-self: flex-start;width: 50%;}#sk-container-id-1 div.sk-parallel-item:only-child::after {width: 0;}#sk-container-id-1 div.sk-dashed-wrapped {border: 1px dashed gray;margin: 0 0.4em 0.5em 0.4em;box-sizing: border-box;padding-bottom: 0.4em;background-color: white;}#sk-container-id-1 div.sk-label label {font-family: monospace;font-weight: bold;display: inline-block;line-height: 1.2em;}#sk-container-id-1 div.sk-label-container {text-align: center;}#sk-container-id-1 div.sk-container {/* jupyter's `normalize.less` sets `[hidden] { display: none; }` but bootstrap.min.css set `[hidden] { display: none !important; }` so we also need the `!important` here to be able to override the default hidden behavior on the sphinx rendered scikit-learn.org. See: https://github.com/scikit-learn/scikit-learn/issues/21755 */display: inline-block !important;position: relative;}#sk-container-id-1 div.sk-text-repr-fallback {display: none;}</style><div id=\"sk-container-id-1\" class=\"sk-top-container\"><div class=\"sk-text-repr-fallback\"><pre>XGBClassifier(base_score=0.5, booster=&#x27;gbtree&#x27;, colsample_bylevel=1,\n",
       "              colsample_bynode=1, colsample_bytree=1, enable_categorical=False,\n",
       "              gamma=0, gpu_id=-1, importance_type=None,\n",
       "              interaction_constraints=&#x27;&#x27;, learning_rate=0.300000012,\n",
       "              max_delta_step=0, max_depth=6, min_child_weight=1, missing=nan,\n",
       "              monotone_constraints=&#x27;()&#x27;, n_estimators=100, n_jobs=4,\n",
       "              num_parallel_tree=1, predictor=&#x27;auto&#x27;, random_state=0,\n",
       "              reg_alpha=0, reg_lambda=1, scale_pos_weight=1, subsample=1,\n",
       "              tree_method=&#x27;exact&#x27;, validate_parameters=1, verbosity=None)</pre><b>In a Jupyter environment, please rerun this cell to show the HTML representation or trust the notebook. <br />On GitHub, the HTML representation is unable to render, please try loading this page with nbviewer.org.</b></div><div class=\"sk-container\" hidden><div class=\"sk-item\"><div class=\"sk-estimator sk-toggleable\"><input class=\"sk-toggleable__control sk-hidden--visually\" id=\"sk-estimator-id-1\" type=\"checkbox\" checked><label for=\"sk-estimator-id-1\" class=\"sk-toggleable__label sk-toggleable__label-arrow\">XGBClassifier</label><div class=\"sk-toggleable__content\"><pre>XGBClassifier(base_score=0.5, booster=&#x27;gbtree&#x27;, colsample_bylevel=1,\n",
       "              colsample_bynode=1, colsample_bytree=1, enable_categorical=False,\n",
       "              gamma=0, gpu_id=-1, importance_type=None,\n",
       "              interaction_constraints=&#x27;&#x27;, learning_rate=0.300000012,\n",
       "              max_delta_step=0, max_depth=6, min_child_weight=1, missing=nan,\n",
       "              monotone_constraints=&#x27;()&#x27;, n_estimators=100, n_jobs=4,\n",
       "              num_parallel_tree=1, predictor=&#x27;auto&#x27;, random_state=0,\n",
       "              reg_alpha=0, reg_lambda=1, scale_pos_weight=1, subsample=1,\n",
       "              tree_method=&#x27;exact&#x27;, validate_parameters=1, verbosity=None)</pre></div></div></div></div></div>"
      ],
      "text/plain": [
       "XGBClassifier(base_score=0.5, booster='gbtree', colsample_bylevel=1,\n",
       "              colsample_bynode=1, colsample_bytree=1, enable_categorical=False,\n",
       "              gamma=0, gpu_id=-1, importance_type=None,\n",
       "              interaction_constraints='', learning_rate=0.300000012,\n",
       "              max_delta_step=0, max_depth=6, min_child_weight=1, missing=nan,\n",
       "              monotone_constraints='()', n_estimators=100, n_jobs=4,\n",
       "              num_parallel_tree=1, predictor='auto', random_state=0,\n",
       "              reg_alpha=0, reg_lambda=1, scale_pos_weight=1, subsample=1,\n",
       "              tree_method='exact', validate_parameters=1, verbosity=None)"
      ]
     },
     "execution_count": 29,
     "metadata": {},
     "output_type": "execute_result"
    }
   ],
   "source": [
    "xgb_classifier = xgb.XGBClassifier()\n",
    "xgb_classifier.fit(x_train,y_train)"
   ]
  },
  {
   "cell_type": "code",
   "execution_count": 30,
   "id": "9c87ace3",
   "metadata": {},
   "outputs": [],
   "source": [
    "predictions = xgb_classifier.predict(x_test)"
   ]
  },
  {
   "cell_type": "code",
   "execution_count": 31,
   "id": "25257aca",
   "metadata": {},
   "outputs": [
    {
     "name": "stdout",
     "output_type": "stream",
     "text": [
      "Training Accuracy: 0.5957512540734503\n",
      "---------------------------------------------------------------------\n",
      "Testing Accuracy: 0.5149617831479701\n",
      "---------------------------------------------------------------------\n",
      "confusion_matrix:\n",
      " [[27897 26831]\n",
      " [26157 28360]]\n",
      "---------------------------------------------------------------------\n",
      "classifiction_report:\n",
      "               precision    recall  f1-score   support\n",
      "\n",
      "           0       0.52      0.51      0.51     54728\n",
      "           1       0.51      0.52      0.52     54517\n",
      "\n",
      "    accuracy                           0.51    109245\n",
      "   macro avg       0.51      0.51      0.51    109245\n",
      "weighted avg       0.51      0.51      0.51    109245\n",
      "\n"
     ]
    }
   ],
   "source": [
    "print(\"Training Accuracy:\",xgb_classifier.score(x_train,y_train))\n",
    "print(\"---------------------------------------------------------------------\")\n",
    "print(\"Testing Accuracy:\",acs(y_test,predictions))\n",
    "print(\"---------------------------------------------------------------------\")\n",
    "print(\"confusion_matrix:\\n\",cm(y_test,predictions))\n",
    "print(\"---------------------------------------------------------------------\")\n",
    "print(\"classifiction_report:\\n\",cr(y_test,predictions))"
   ]
  },
  {
   "cell_type": "markdown",
   "id": "6d601be8",
   "metadata": {},
   "source": [
    "## Naive Bayes"
   ]
  },
  {
   "cell_type": "code",
   "execution_count": 32,
   "id": "9b13e377",
   "metadata": {},
   "outputs": [],
   "source": [
    "gnb=GaussianNB()\n",
    "model6=gnb.fit(x_train, y_train,sample_weight=100)  \n",
    "p6=model6.predict(x_test)"
   ]
  },
  {
   "cell_type": "code",
   "execution_count": 33,
   "id": "fa60b1f2",
   "metadata": {},
   "outputs": [
    {
     "name": "stdout",
     "output_type": "stream",
     "text": [
      "Training Accuracy: 0.5025973966533631\n",
      "----------------------------------------------------------------\n",
      "Testing Accuracy: 0.49982150212824383\n",
      "----------------------------------------------------------------\n",
      "confusion_matrix:\n",
      " [[25994 28734]\n",
      " [25908 28609]]\n",
      "----------------------------------------------------------------\n",
      "classifiction_report:\n",
      "               precision    recall  f1-score   support\n",
      "\n",
      "           0       0.50      0.47      0.49     54728\n",
      "           1       0.50      0.52      0.51     54517\n",
      "\n",
      "    accuracy                           0.50    109245\n",
      "   macro avg       0.50      0.50      0.50    109245\n",
      "weighted avg       0.50      0.50      0.50    109245\n",
      "\n"
     ]
    }
   ],
   "source": [
    "print(\"Training Accuracy:\",model6.score(x_train,y_train))\n",
    "print(\"----------------------------------------------------------------\")\n",
    "print(\"Testing Accuracy:\",acs(y_test,p6))\n",
    "print(\"----------------------------------------------------------------\")\n",
    "print(\"confusion_matrix:\\n\",cm(y_test,p6))\n",
    "print(\"----------------------------------------------------------------\")\n",
    "print(\"classifiction_report:\\n\",cr(y_test,p6))"
   ]
  },
  {
   "cell_type": "markdown",
   "id": "0dad23ee",
   "metadata": {},
   "source": [
    "## Gradient Boosting Classifier"
   ]
  },
  {
   "cell_type": "code",
   "execution_count": 34,
   "id": "ea315c5a",
   "metadata": {},
   "outputs": [],
   "source": [
    "gradient=gbc().fit(x_train,y_train)\n",
    "p8=gradient.predict(x_test)"
   ]
  },
  {
   "cell_type": "code",
   "execution_count": 35,
   "id": "ac19b062",
   "metadata": {},
   "outputs": [
    {
     "name": "stdout",
     "output_type": "stream",
     "text": [
      "Training Accuracy: 0.5195090805902384\n",
      "--------------------------------------------------------\n",
      "Testing Accuracy: 0.4987596686347201\n",
      "--------------------------------------------------------\n",
      "confusion_matrix:\n",
      " [[27109 27619]\n",
      " [27139 27378]]\n",
      "--------------------------------------------------------\n",
      "classifiction_report:\n",
      "               precision    recall  f1-score   support\n",
      "\n",
      "           0       0.50      0.50      0.50     54728\n",
      "           1       0.50      0.50      0.50     54517\n",
      "\n",
      "    accuracy                           0.50    109245\n",
      "   macro avg       0.50      0.50      0.50    109245\n",
      "weighted avg       0.50      0.50      0.50    109245\n",
      "\n"
     ]
    }
   ],
   "source": [
    "print(\"Training Accuracy:\",gradient.score(x_train,y_train))\n",
    "print(\"--------------------------------------------------------\")\n",
    "print(\"Testing Accuracy:\",acs(y_test,p8))\n",
    "print(\"--------------------------------------------------------\")\n",
    "print(\"confusion_matrix:\\n\",cm(y_test,p8))\n",
    "print(\"--------------------------------------------------------\")\n",
    "print(\"classifiction_report:\\n\",cr(y_test,p8))"
   ]
  },
  {
   "cell_type": "markdown",
   "id": "4a291df3",
   "metadata": {},
   "source": [
    "## CatBoost Classifier"
   ]
  },
  {
   "cell_type": "code",
   "execution_count": 11,
   "id": "d4bbcebf",
   "metadata": {},
   "outputs": [
    {
     "name": "stdout",
     "output_type": "stream",
     "text": [
      "CatBoost model is fitted: True\n",
      "CatBoost model parameters:\n",
      "{'iterations': 100000, 'learning_rate': 0.1}\n"
     ]
    }
   ],
   "source": [
    "clf2 = CatBoostClassifier(\n",
    "    iterations=100000, \n",
    "    learning_rate=0.1, \n",
    "    #loss_function='CrossEntropy'\n",
    ")\n",
    "\n",
    "\n",
    "clf2.fit(x_train, y_train, verbose=False)\n",
    "\n",
    "print('CatBoost model is fitted: ' + str(clf2.is_fitted()))\n",
    "print('CatBoost model parameters:')\n",
    "print(clf2.get_params())\n",
    "p11=clf2.predict(x_test)"
   ]
  },
  {
   "cell_type": "code",
   "execution_count": 12,
   "id": "1919bb09",
   "metadata": {},
   "outputs": [
    {
     "name": "stdout",
     "output_type": "stream",
     "text": [
      "Training Accuracy: 0.9969380469407931\n",
      "--------------------------------------------------------\n",
      "Testing Accuracy: 0.6464002929195845\n",
      "--------------------------------------------------------\n",
      "confusion_matrix:\n",
      " [[35437 19291]\n",
      " [19338 35179]]\n",
      "--------------------------------------------------------\n",
      "classifiction_report:\n",
      "               precision    recall  f1-score   support\n",
      "\n",
      "         0.0       0.65      0.65      0.65     54728\n",
      "         1.0       0.65      0.65      0.65     54517\n",
      "\n",
      "    accuracy                           0.65    109245\n",
      "   macro avg       0.65      0.65      0.65    109245\n",
      "weighted avg       0.65      0.65      0.65    109245\n",
      "\n"
     ]
    }
   ],
   "source": [
    "print(\"Training Accuracy:\",clf2.score(x_train,y_train))\n",
    "print(\"--------------------------------------------------------\")\n",
    "print(\"Testing Accuracy:\",acs(y_test,p11))\n",
    "print(\"--------------------------------------------------------\")\n",
    "print(\"confusion_matrix:\\n\",cm(y_test,p11))\n",
    "print(\"--------------------------------------------------------\")\n",
    "print(\"classifiction_report:\\n\",cr(y_test,p11))"
   ]
  },
  {
   "cell_type": "markdown",
   "id": "f36e4d14",
   "metadata": {},
   "source": [
    "## Light gbm"
   ]
  },
  {
   "cell_type": "code",
   "execution_count": 11,
   "id": "c50699a7",
   "metadata": {},
   "outputs": [
    {
     "name": "stdout",
     "output_type": "stream",
     "text": [
      "Wall time: 14min 42s\n"
     ]
    }
   ],
   "source": [
    "%%time\n",
    "\n",
    "from lightgbm import LGBMClassifier\n",
    "\n",
    "lgbm = LGBMClassifier(boosting_type='gbdt',\n",
    "    num_leaves=5000,\n",
    "    max_depth=-1,\n",
    "    learning_rate=0.1,\n",
    "    n_estimators=5000,\n",
    "    subsample_for_bin=200000,\n",
    "    objective='binary',\n",
    "    \n",
    "    min_child_samples=5000,\n",
    "\n",
    "    reg_alpha=0.9,\n",
    "    reg_lambda=0.9,\n",
    "metric='binary_logloss', #metric for binary classification\n",
    "    \n",
    "    n_jobs=-1,\n",
    "    silent=True,\n",
    "    importance_type='',\n",
    "    random_state=6)\n",
    "\n",
    "lgbm.fit(x_train, y_train)\n",
    "y_pred = lgbm.predict(x_test)"
   ]
  },
  {
   "cell_type": "code",
   "execution_count": 12,
   "id": "de6121aa",
   "metadata": {},
   "outputs": [
    {
     "name": "stdout",
     "output_type": "stream",
     "text": [
      "Training Accuracy: 0.8573422796675332\n",
      "--------------------------------------------------------\n",
      "Testing Accuracy: 0.683225776923429\n",
      "-------------------------------------------------------------\n",
      "confusion_matrix:\n",
      " [[37412 17316]\n",
      " [17290 37227]]\n",
      "-------------------------------------------------------------\n",
      "classifiction_report:\n",
      "               precision    recall  f1-score   support\n",
      "\n",
      "         0.0       0.68      0.68      0.68     54728\n",
      "         1.0       0.68      0.68      0.68     54517\n",
      "\n",
      "    accuracy                           0.68    109245\n",
      "   macro avg       0.68      0.68      0.68    109245\n",
      "weighted avg       0.68      0.68      0.68    109245\n",
      "\n"
     ]
    }
   ],
   "source": [
    "print(\"Training Accuracy:\",lgbm.score(x_train,y_train))\n",
    "print(\"--------------------------------------------------------\")\n",
    "print(\"Testing Accuracy:\",acs(y_test,y_pred))\n",
    "print(\"-------------------------------------------------------------\")\n",
    "print(\"confusion_matrix:\\n\",cm(y_test,y_pred))\n",
    "print(\"-------------------------------------------------------------\")\n",
    "print(\"classifiction_report:\\n\",cr(y_test,y_pred))"
   ]
  },
  {
   "cell_type": "code",
   "execution_count": 13,
   "id": "619e3585",
   "metadata": {},
   "outputs": [
    {
     "data": {
      "text/plain": [
       "<AxesSubplot:>"
      ]
     },
     "execution_count": 13,
     "metadata": {},
     "output_type": "execute_result"
    },
    {
     "data": {
      "image/png": "[encoded data removed]",
      "text/plain": [
       "<Figure size 432x288 with 2 Axes>"
      ]
     },
     "metadata": {
      "needs_background": "light"
     },
     "output_type": "display_data"
    }
   ],
   "source": [
    "confusion_matrix=cm(y_test,y_pred)\n",
    "sns.heatmap(confusion_matrix/np.sum(confusion_matrix),annot=True,fmt=\".2%\",cmap=\"Blues\")"
   ]
  },
  {
   "cell_type": "markdown",
   "id": "9759d75f",
   "metadata": {},
   "source": [
    "## Cross Validation using Kfold"
   ]
  },
  {
   "cell_type": "code",
   "execution_count": 13,
   "id": "c097f2a1",
   "metadata": {},
   "outputs": [
    {
     "name": "stdout",
     "output_type": "stream",
     "text": [
      "[0.69818792 0.69415112 0.70119951 0.6911139  0.6968897  0.69377555\n",
      " 0.69776115]\n"
     ]
    }
   ],
   "source": [
    "from sklearn.model_selection import KFold\n",
    "Kfold_validation=KFold(7)\n",
    "from sklearn.model_selection import cross_val_score\n",
    "results=cross_val_score(lgbm,x,y,cv=Kfold_validation)\n",
    "print(results)"
   ]
  },
  {
   "cell_type": "code",
   "execution_count": 14,
   "id": "3023c3cb",
   "metadata": {},
   "outputs": [
    {
     "name": "stdout",
     "output_type": "stream",
     "text": [
      "0.6961541207021197\n"
     ]
    }
   ],
   "source": [
    "print(np.mean(results))"
   ]
  },
  {
   "cell_type": "markdown",
   "id": "b6f4d467",
   "metadata": {},
   "source": [
    "## Hyperparameter tuning using GridSearchCV"
   ]
  },
  {
   "cell_type": "code",
   "execution_count": 45,
   "id": "61d12f86",
   "metadata": {},
   "outputs": [],
   "source": [
    "from sklearn.model_selection import GridSearchCV\n",
    "def algorithm_pipeline(X_train_data, X_test_data, y_train_data, y_test_data, \n",
    "                       model, param_grid, scoring_fit='neg_mean_squared_error',\n",
    "                       do_probabilities = False):\n",
    "    gs = GridSearchCV(\n",
    "        estimator=model,\n",
    "        param_grid=param_grid, \n",
    "         \n",
    "        n_jobs=-1, \n",
    "        scoring=scoring_fit,\n",
    "        verbose=2\n",
    "    )\n",
    "    fitted_model = gs.fit(X_train_data, y_train_data)\n",
    "    \n",
    "    if do_probabilities:\n",
    "      pred = fitted_model.predict_proba(X_test_data)\n",
    "    else:\n",
    "      pred = fitted_model.predict(X_test_data)\n",
    "    \n",
    "    return fitted_model, pred"
   ]
  },
  {
   "cell_type": "code",
   "execution_count": null,
   "id": "9a500c11",
   "metadata": {},
   "outputs": [
    {
     "name": "stdout",
     "output_type": "stream",
     "text": [
      "Fitting 5 folds for each of 2916 candidates, totalling 14580 fits\n"
     ]
    }
   ],
   "source": [
    "import lightgbm as lgb\n",
    "model = lgb.LGBMClassifier()\n",
    "param_grid = {\n",
    "    'n_estimators': [400, 700, 1000],\n",
    "    'colsample_bytree': [0.7, 0.8],\n",
    "    'max_depth': [15,20,25],\n",
    "    'num_leaves': [50, 100, 200],\n",
    "    'reg_alpha': [1.1, 1.2, 1.3],\n",
    "    'reg_lambda': [1.1, 1.2, 1.3],\n",
    "    'min_split_gain': [0.3, 0.4],\n",
    "    'subsample': [0.7, 0.8, 0.9],\n",
    "    'subsample_freq': [20]\n",
    "}\n",
    "\n",
    "model, pred = algorithm_pipeline(x_train, x_test, y_train, y_test, model, \n",
    "                                 param_grid, scoring_fit='accuracy')\n",
    "\n",
    "print(model.best_score_)\n",
    "print(model.best_params_)"
   ]
  },
  {
   "cell_type": "markdown",
   "id": "f72d13c9",
   "metadata": {},
   "source": [
    "## ANN"
   ]
  },
  {
   "cell_type": "code",
   "execution_count": 27,
   "id": "901ef337",
   "metadata": {},
   "outputs": [],
   "source": [
    "from keras.models import Sequential\n",
    "from keras .layers import Dense"
   ]
  },
  {
   "cell_type": "code",
   "execution_count": 28,
   "id": "317fcfee",
   "metadata": {},
   "outputs": [],
   "source": [
    "classifier=Sequential()\n",
    "\n",
    "classifier.add(Dense(activation=\"relu\",input_dim=45,units=200,kernel_initializer=\"uniform\"))\n",
    "\n",
    "classifier.add(Dense(activation=\"relu\",units=200,kernel_initializer=\"uniform\"))\n",
    "\n",
    "classifier.add(Dense(1,activation=\"sigmoid\"))\n",
    "\n",
    "classifier.compile(optimizer=\"adam\",loss=\"binary_crossentropy\",metrics=[\"accuracy\"])"
   ]
  },
  {
   "cell_type": "code",
   "execution_count": 29,
   "id": "0e7106ef",
   "metadata": {},
   "outputs": [],
   "source": [
    "import tensorflow as tf\n",
    "early_stopping =tf.keras.callbacks.EarlyStopping(\n",
    "    monitor=\"val_loss\",\n",
    "    min_delta=0.001,\n",
    "    patience=10,\n",
    "    verbose=1,\n",
    "    mode=\"auto\",\n",
    "    baseline=None,\n",
    "    restore_best_weights=False)"
   ]
  },
  {
   "cell_type": "code",
   "execution_count": 30,
   "id": "26a30a92",
   "metadata": {},
   "outputs": [
    {
     "name": "stdout",
     "output_type": "stream",
     "text": [
      "Epoch 1/50\n",
      "2928/2928 [==============================] - 16s 6ms/step - loss: 0.6932 - accuracy: 0.4987 - val_loss: 0.6932 - val_accuracy: 0.4987\n",
      "Epoch 2/50\n",
      "2928/2928 [==============================] - 14s 5ms/step - loss: 0.6932 - accuracy: 0.5001 - val_loss: 0.6932 - val_accuracy: 0.4988\n",
      "Epoch 3/50\n",
      "2928/2928 [==============================] - 14s 5ms/step - loss: 0.6932 - accuracy: 0.5009 - val_loss: 0.6932 - val_accuracy: 0.4988\n",
      "Epoch 4/50\n",
      "2928/2928 [==============================] - 14s 5ms/step - loss: 0.6932 - accuracy: 0.4996 - val_loss: 0.6932 - val_accuracy: 0.4979\n",
      "Epoch 5/50\n",
      "2928/2928 [==============================] - 14s 5ms/step - loss: 0.6932 - accuracy: 0.5012 - val_loss: 0.6932 - val_accuracy: 0.4981\n",
      "Epoch 6/50\n",
      "2928/2928 [==============================] - 13s 5ms/step - loss: 0.6931 - accuracy: 0.5033 - val_loss: 0.6934 - val_accuracy: 0.4994\n",
      "Epoch 7/50\n",
      "2928/2928 [==============================] - 14s 5ms/step - loss: 0.6931 - accuracy: 0.5054 - val_loss: 0.6933 - val_accuracy: 0.5002\n",
      "Epoch 8/50\n",
      "2928/2928 [==============================] - 14s 5ms/step - loss: 0.6930 - accuracy: 0.5053 - val_loss: 0.6935 - val_accuracy: 0.4982\n",
      "Epoch 9/50\n",
      "2928/2928 [==============================] - 15s 5ms/step - loss: 0.6929 - accuracy: 0.5080 - val_loss: 0.6934 - val_accuracy: 0.4990- loss: 0.6929 - accuracy: 0.\n",
      "Epoch 10/50\n",
      "2928/2928 [==============================] - 14s 5ms/step - loss: 0.6927 - accuracy: 0.5101 - val_loss: 0.6937 - val_accuracy: 0.4982\n",
      "Epoch 11/50\n",
      "2928/2928 [==============================] - 14s 5ms/step - loss: 0.6925 - accuracy: 0.5131 - val_loss: 0.6938 - val_accuracy: 0.4994\n",
      "Epoch 00011: early stopping\n"
     ]
    }
   ],
   "source": [
    "model_history=classifier.fit(x_train,y_train,validation_split=0.33,batch_size =100,epochs =50,callbacks=early_stopping)"
   ]
  },
  {
   "cell_type": "markdown",
   "id": "29730b9a",
   "metadata": {},
   "source": [
    "##  Performance Measurement of models using roc curve"
   ]
  },
  {
   "cell_type": "code",
   "execution_count": 40,
   "id": "3f83c516",
   "metadata": {},
   "outputs": [],
   "source": [
    "from sklearn.metrics import roc_curve\n",
    "\n",
    "# roc curve for models\n",
    "fpr1, tpr1, thresh1 = roc_curve(y_test, p[:,], pos_label=1)\n",
    "fpr2, tpr2, thresh2 = roc_curve(y_test, p1[:,], pos_label=1)\n",
    "fpr3, tpr3, thresh3 = roc_curve(y_test, y_pred[:,], pos_label=1)\n",
    "fpr4, tpr4, thresh4 = roc_curve(y_test, p11[:,], pos_label=1)\n",
    "\n",
    "# roc curve for tpr = fpr \n",
    "random_probs = [0 for i in range(len(y_test))]\n",
    "p_fpr, p_tpr, _ = roc_curve(y_test, random_probs, pos_label=1)"
   ]
  },
  {
   "cell_type": "code",
   "execution_count": 41,
   "id": "c25f56cf",
   "metadata": {},
   "outputs": [
    {
     "name": "stdout",
     "output_type": "stream",
     "text": [
      "0.4987248438125179 0.5422218310575464 0.6942880171181395 0.6500665631174926\n"
     ]
    }
   ],
   "source": [
    "from sklearn.metrics import roc_auc_score\n",
    "\n",
    "# auc scores\n",
    "auc_score1 = roc_auc_score(y_test, p[:,])\n",
    "auc_score2 = roc_auc_score(y_test, p1[:,])\n",
    "auc_score3 = roc_auc_score(y_test, y_pred[:,])\n",
    "auc_score4 = roc_auc_score(y_test, p11[:,])\n",
    "\n",
    "\n",
    "\n",
    "print(auc_score1, auc_score2,auc_score3,auc_score4)"
   ]
  },
  {
   "cell_type": "code",
   "execution_count": 42,
   "id": "674ef992",
   "metadata": {},
   "outputs": [
    {
     "data": {
      "image/png": "[encoded data removed]",
      "text/plain": [
       "<Figure size 576x396 with 1 Axes>"
      ]
     },
     "metadata": {},
     "output_type": "display_data"
    }
   ],
   "source": [
    "#matplotlib\n",
    "import matplotlib.pyplot as plt\n",
    "plt.style.use('seaborn')\n",
    "\n",
    "# plot roc curves\n",
    "plt.plot(fpr1, tpr1, linestyle='--',color='orange', label='Logistic Regression')\n",
    "plt.plot(fpr2, tpr2, linestyle='--',color='green', label='DecisionTreeClassifier')\n",
    "plt.plot(fpr3, tpr3, linestyle='--',color='red', label='lightgbm')\n",
    "plt.plot(fpr4, tpr4, linestyle='--',color='cyan', label='CatBoostClassifier')\n",
    "\n",
    "\n",
    "plt.plot(p_fpr, p_tpr, linestyle='--', color='blue')\n",
    "# title\n",
    "plt.title('ROC curve')\n",
    "# x label\n",
    "plt.xlabel('False Positive Rate')\n",
    "# y label\n",
    "plt.ylabel('True Positive rate')\n",
    "\n",
    "plt.legend(loc='best')\n",
    "plt.savefig('ROC',dpi=300)\n",
    "plt.show();"
   ]
  },
  {
   "cell_type": "markdown",
   "id": "db7dd9ce",
   "metadata": {},
   "source": [
    "### As Lightgbm got the highest accuracy among the models so we are using this model for deployment."
   ]
  },
  {
   "cell_type": "code",
   "execution_count": 17,
   "id": "f3de2275",
   "metadata": {},
   "outputs": [
    {
     "data": {
      "text/plain": [
       "<lightgbm.basic.Booster at 0x1bb2b5ae4c0>"
      ]
     },
     "execution_count": 17,
     "metadata": {},
     "output_type": "execute_result"
    }
   ],
   "source": [
    "lgbm.booster_.save_model(\"lgbm1.json\")"
   ]
  }
 ],
 "metadata": {
  "kernelspec": {
   "display_name": "Python 3",
   "language": "python",
   "name": "python3"
  },
  "language_info": {
   "codemirror_mode": {
    "name": "ipython",
    "version": 3
   },
   "file_extension": ".py",
   "mimetype": "text/x-python",
   "name": "python",
   "nbconvert_exporter": "python",
   "pygments_lexer": "ipython3",
   "version": "3.8.8"
  }
 },
 "nbformat": 4,
 "nbformat_minor": 5
}
